{
 "cells": [
  {
   "cell_type": "code",
   "execution_count": 3,
   "metadata": {
    "collapsed": true
   },
   "outputs": [
    {
     "name": "stdout",
     "output_type": "stream",
     "text": [
      "1875\n"
     ]
    }
   ],
   "source": [
    "import torch\n",
    "from torchvision import datasets, transforms\n",
    "import torch.optim as optim\n",
    "import torch.nn as nn\n",
    "from torch.autograd import Variable\n",
    "import torch.utils.data as data\n",
    "import mnist_cnn\n",
    "\n",
    "import visdom\n",
    "import numpy as np\n",
    "\n",
    "\n",
    "vis = visdom.Visdom()\n",
    "\n",
    "def plt_tracker(loss_plot, loss_value, num):\n",
    "    vis.line(X=np.stack(np.arange(num, num + 1)),\n",
    "             Y=np.stack([loss_value]),\n",
    "             win=loss_plot,\n",
    "             update='append'\n",
    "             )\n",
    "\n",
    "\n",
    "batch_size=32\n",
    "epoch = 30\n",
    "gpu = 1\n",
    "\n",
    "\n",
    "T=transforms.Compose([transforms.ToTensor(),transforms.Normalize((0.5,0.5,0.5),(0.5,0.5,0.5))])\n",
    "\n",
    "train_data = datasets.MNIST('./data',train=True,transform=T,download=True)\n",
    "test_data = datasets.MNIST('./data',train=False,transform=T,download=True)\n",
    "\n",
    "train_loader = data.DataLoader(train_data, batch_size=batch_size,shuffle=True,num_workers=4)\n",
    "test_loader = data.DataLoader(test_data, batch_size=1,shuffle=True,num_workers=4)\n",
    "\n",
    "CNN = mnist_cnn.MNIST_CNN()\n",
    "if gpu == 1:\n",
    "    CNN = CNN.cuda()\n",
    "\n",
    "optimizer = optim.SGD(CNN.parameters(),lr = 0.002, momentum=0.5)\n",
    "\n",
    "loss_fn = nn.CrossEntropyLoss()\n",
    "\n",
    "lr_scheduler = optim.lr_scheduler.StepLR(optimizer, step_size = 2, gamma = 0.9)\n",
    "\n",
    "loss_plot = vis.line(Y=np.random.rand(1))\n",
    "\n",
    "\n",
    "train_len = len(train_loader)\n",
    "print(train_len)\n",
    "\n",
    "\n",
    "for ep in range(epoch):\n",
    "    lr_scheduler.step()\n",
    "    for i, data in enumerate(train_loader):\n",
    "        imgs, labels = data\n",
    "        imgs, labels = Variable(imgs.cuda()), Variable(labels.cuda())\n",
    "\n",
    "        optimizer.zero_grad()\n",
    "        out, _ = CNN(imgs)\n",
    "\n",
    "        loss = loss_fn(out,labels)\n",
    "        loss.backward()\n",
    "        optimizer.step()\n",
    "        plt_tracker(loss_plot, (float(loss.data.cpu())), ((ep *1875) + i))"
   ]
  },
  {
   "cell_type": "code",
   "execution_count": 9,
   "metadata": {},
   "outputs": [],
   "source": [
    "torch.save(CNN,'./MNIST_CNN.pth')"
   ]
  },
  {
   "cell_type": "code",
   "execution_count": 10,
   "metadata": {
    "collapsed": true
   },
   "outputs": [
    {
     "name": "stdout",
     "output_type": "stream",
     "text": [
      "Accuracy of the network : 98.830000 \n"
     ]
    }
   ],
   "source": [
    "#-------- test my network -------------\n",
    "\n",
    "net = torch.load('./MNIST_CNN.pth')\n",
    "\n",
    "total = 0\n",
    "correct = 0\n",
    "\n",
    "for data in test_loader:\n",
    "    imgs, labels = data\n",
    "    imgs, labels = Variable(imgs.cuda()), (labels.cuda())\n",
    "\n",
    "    outputs, _ = net(imgs)\n",
    "\n",
    "    _, predicted = torch.max(outputs.data, 1)\n",
    "    total += labels.size(0)\n",
    "    \n",
    "    \n",
    "    if (int(predicted) == int(labels)):\n",
    "        correct =correct +1 \n",
    "    \n",
    "\n",
    "print('Accuracy of the network : %f ' %(100* correct / total))\n",
    "\n",
    "\n"
   ]
  },
  {
   "cell_type": "code",
   "execution_count": null,
   "metadata": {},
   "outputs": [],
   "source": []
  }
 ],
 "metadata": {
  "kernelspec": {
   "display_name": "Python 2",
   "language": "python",
   "name": "python2"
  },
  "language_info": {
   "codemirror_mode": {
    "name": "ipython",
    "version": 2
   },
   "file_extension": ".py",
   "mimetype": "text/x-python",
   "name": "python",
   "nbconvert_exporter": "python",
   "pygments_lexer": "ipython2",
   "version": "2.7.6"
  }
 },
 "nbformat": 4,
 "nbformat_minor": 0
}
